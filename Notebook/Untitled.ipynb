{
 "cells": [
  {
   "cell_type": "markdown",
   "id": "cde24825-906a-4510-9ad4-0842eb5074b0",
   "metadata": {},
   "source": [
    "# \"🌍✨ Let's break language barriers with AI-powered translation! 🔥🗣️\""
   ]
  },
  {
   "cell_type": "code",
   "execution_count": 1,
   "id": "641ceb8b-180a-450c-9bff-31847f8e1e5c",
   "metadata": {},
   "outputs": [],
   "source": [
    "import numpy as np\n",
    "import pandas as pd\n",
    "import os\n",
    "import string\n",
    "from string import digits\n",
    "import matplotlib.pyplot as plt\n",
    "import seaborn as sns\n",
    "from sklearn.model_selection import train_test_split\n",
    "from keras.layers import Input, LSTM, Embedding, Dense\n",
    "from keras.models import Model\n",
    "import re"
   ]
  },
  {
   "cell_type": "code",
   "execution_count": 70,
   "id": "132eaba5-4ba3-4927-ad25-d3dd92cadfe9",
   "metadata": {},
   "outputs": [],
   "source": [
    "path_data = '../Data/Hindi_English_Corpus.csv'"
   ]
  },
  {
   "cell_type": "code",
   "execution_count": 71,
   "id": "26de20b9-1632-4338-ae19-6541636974eb",
   "metadata": {},
   "outputs": [
    {
     "data": {
      "text/html": [
       "<div>\n",
       "<style scoped>\n",
       "    .dataframe tbody tr th:only-of-type {\n",
       "        vertical-align: middle;\n",
       "    }\n",
       "\n",
       "    .dataframe tbody tr th {\n",
       "        vertical-align: top;\n",
       "    }\n",
       "\n",
       "    .dataframe thead th {\n",
       "        text-align: right;\n",
       "    }\n",
       "</style>\n",
       "<table border=\"1\" class=\"dataframe\">\n",
       "  <thead>\n",
       "    <tr style=\"text-align: right;\">\n",
       "      <th></th>\n",
       "      <th>source</th>\n",
       "      <th>english_sentence</th>\n",
       "      <th>hindi_sentence</th>\n",
       "    </tr>\n",
       "  </thead>\n",
       "  <tbody>\n",
       "    <tr>\n",
       "      <th>0</th>\n",
       "      <td>ted</td>\n",
       "      <td>politicians do not have permission to do what ...</td>\n",
       "      <td>राजनीतिज्ञों के पास जो कार्य करना चाहिए, वह कर...</td>\n",
       "    </tr>\n",
       "    <tr>\n",
       "      <th>1</th>\n",
       "      <td>ted</td>\n",
       "      <td>I'd like to tell you about one such child,</td>\n",
       "      <td>मई आपको ऐसे ही एक बच्चे के बारे में बताना चाहू...</td>\n",
       "    </tr>\n",
       "    <tr>\n",
       "      <th>2</th>\n",
       "      <td>indic2012</td>\n",
       "      <td>This percentage is even greater than the perce...</td>\n",
       "      <td>यह प्रतिशत भारत में हिन्दुओं प्रतिशत से अधिक है।</td>\n",
       "    </tr>\n",
       "    <tr>\n",
       "      <th>3</th>\n",
       "      <td>ted</td>\n",
       "      <td>what we really mean is that they're bad at not...</td>\n",
       "      <td>हम ये नहीं कहना चाहते कि वो ध्यान नहीं दे पाते</td>\n",
       "    </tr>\n",
       "    <tr>\n",
       "      <th>4</th>\n",
       "      <td>indic2012</td>\n",
       "      <td>.The ending portion of these Vedas is called U...</td>\n",
       "      <td>इन्हीं वेदों का अंतिम भाग उपनिषद कहलाता है।</td>\n",
       "    </tr>\n",
       "  </tbody>\n",
       "</table>\n",
       "</div>"
      ],
      "text/plain": [
       "      source                                   english_sentence  \\\n",
       "0        ted  politicians do not have permission to do what ...   \n",
       "1        ted         I'd like to tell you about one such child,   \n",
       "2  indic2012  This percentage is even greater than the perce...   \n",
       "3        ted  what we really mean is that they're bad at not...   \n",
       "4  indic2012  .The ending portion of these Vedas is called U...   \n",
       "\n",
       "                                      hindi_sentence  \n",
       "0  राजनीतिज्ञों के पास जो कार्य करना चाहिए, वह कर...  \n",
       "1  मई आपको ऐसे ही एक बच्चे के बारे में बताना चाहू...  \n",
       "2   यह प्रतिशत भारत में हिन्दुओं प्रतिशत से अधिक है।  \n",
       "3     हम ये नहीं कहना चाहते कि वो ध्यान नहीं दे पाते  \n",
       "4        इन्हीं वेदों का अंतिम भाग उपनिषद कहलाता है।  "
      ]
     },
     "execution_count": 71,
     "metadata": {},
     "output_type": "execute_result"
    }
   ],
   "source": [
    "data_lines = pd.read_csv(path_data)\n",
    "data_lines.head(5)"
   ]
  },
  {
   "cell_type": "code",
   "execution_count": 72,
   "id": "cdce6b03-5e8f-4d0d-a01c-728a810be747",
   "metadata": {},
   "outputs": [],
   "source": [
    "ted_source = data_lines.source == 'ted'\n",
    "data_lines = data_lines[ted_source]"
   ]
  },
  {
   "cell_type": "code",
   "execution_count": 73,
   "id": "5ace3e1a-f585-46ef-bb04-6954c3f8850f",
   "metadata": {},
   "outputs": [
    {
     "data": {
      "text/plain": [
       "source                                                            ted\n",
       "english_sentence    But it turns out that tryptophan also happens ...\n",
       "hindi_sentence      लेकिन यह पता चला है कि tryptophan भी पाया जाता है\n",
       "Name: 93409, dtype: object"
      ]
     },
     "execution_count": 73,
     "metadata": {},
     "output_type": "execute_result"
    }
   ],
   "source": [
    "data_lines.loc[93409]"
   ]
  },
  {
   "cell_type": "code",
   "execution_count": 74,
   "id": "12017ca5-123c-4652-9dde-8c956130d174",
   "metadata": {},
   "outputs": [
    {
     "name": "stdout",
     "output_type": "stream",
     "text": [
      "Shape of data before deleting null values: (39881, 3)\n"
     ]
    },
    {
     "data": {
      "text/plain": [
       "source              0\n",
       "english_sentence    0\n",
       "hindi_sentence      0\n",
       "dtype: int64"
      ]
     },
     "execution_count": 74,
     "metadata": {},
     "output_type": "execute_result"
    }
   ],
   "source": [
    "print(f'Shape of data before deleting null values: {data_lines.shape}')\n",
    "data_lines.isnull().sum()"
   ]
  },
  {
   "cell_type": "code",
   "execution_count": 75,
   "id": "01ee14b5-830b-4176-96e1-8a2982d519d3",
   "metadata": {},
   "outputs": [
    {
     "name": "stdout",
     "output_type": "stream",
     "text": [
      "Shape of data after deleting duplicate values: (38803, 3)\n"
     ]
    }
   ],
   "source": [
    "data_lines.drop_duplicates(inplace = True)\n",
    "print(f'Shape of data after deleting duplicate values: {data_lines.shape}')"
   ]
  },
  {
   "cell_type": "markdown",
   "id": "dd009959-4bf7-4276-a3c1-678b9d8c8a58",
   "metadata": {},
   "source": [
    "##### Convert text to lowercase, remove single quotes, and remove all special characters."
   ]
  },
  {
   "cell_type": "code",
   "execution_count": 76,
   "id": "e67c0a73-e144-4c8d-aa01-53864bd30bff",
   "metadata": {},
   "outputs": [],
   "source": [
    "def preprocess_text(text):\n",
    "    \"\"\"\n",
    "    Convert text to lowercase, remove single quotes, and remove all special characters.\n",
    "    \n",
    "    Args:\n",
    "    text (str or any): The input value.\n",
    "    \n",
    "    Returns:\n",
    "    str: The processed string, or an empty string if the input is not valid.\n",
    "    \"\"\"\n",
    "    if isinstance(text, str):  \n",
    "        text = text.lower()                # Convert to lowercase\n",
    "        text = re.sub(\"'\", '', text)       # Remove single quotes\n",
    "        text = re.sub(f\"[{re.escape(string.punctuation)}]\", \"\", text)  # Remove special characters\n",
    "        text = re.sub(r'\\d+', '', text)  # Remove standard digits\n",
    "        text = re.sub(r'[०-९]', '', text)  # Remove Hindi digits (Unicode range)\n",
    "        text = re.sub(' +',\" \",text).strip()\n",
    "    return text if isinstance(text, str) else \"\""
   ]
  },
  {
   "cell_type": "code",
   "execution_count": 77,
   "id": "e3c19642-f5be-4910-a9a1-350fbefac951",
   "metadata": {},
   "outputs": [
    {
     "data": {
      "text/html": [
       "<div>\n",
       "<style scoped>\n",
       "    .dataframe tbody tr th:only-of-type {\n",
       "        vertical-align: middle;\n",
       "    }\n",
       "\n",
       "    .dataframe tbody tr th {\n",
       "        vertical-align: top;\n",
       "    }\n",
       "\n",
       "    .dataframe thead th {\n",
       "        text-align: right;\n",
       "    }\n",
       "</style>\n",
       "<table border=\"1\" class=\"dataframe\">\n",
       "  <thead>\n",
       "    <tr style=\"text-align: right;\">\n",
       "      <th></th>\n",
       "      <th>source</th>\n",
       "      <th>english_sentence</th>\n",
       "      <th>hindi_sentence</th>\n",
       "    </tr>\n",
       "  </thead>\n",
       "  <tbody>\n",
       "    <tr>\n",
       "      <th>84728</th>\n",
       "      <td>ted</td>\n",
       "      <td>the first time in any sort of public setting</td>\n",
       "      <td>किसी भी सार्वजनिक मंच पर पहली बार</td>\n",
       "    </tr>\n",
       "    <tr>\n",
       "      <th>86103</th>\n",
       "      <td>ted</td>\n",
       "      <td>of not using sanitary pad</td>\n",
       "      <td>समाज में सैनेटरी पैड ना इस्तेमाल कर पाने की सम...</td>\n",
       "    </tr>\n",
       "    <tr>\n",
       "      <th>126623</th>\n",
       "      <td>ted</td>\n",
       "      <td>now lets turn to two countries</td>\n",
       "      <td>अब फ़िर से एक नज़र दो देशों पर</td>\n",
       "    </tr>\n",
       "    <tr>\n",
       "      <th>100326</th>\n",
       "      <td>ted</td>\n",
       "      <td>what this dark energy that the universe is mad...</td>\n",
       "      <td>श्याम पदार्थ क्या है ब्रह्माण्ड जिससे बना उस स...</td>\n",
       "    </tr>\n",
       "    <tr>\n",
       "      <th>93616</th>\n",
       "      <td>ted</td>\n",
       "      <td>youre an percent bicyclist”</td>\n",
       "      <td>आप सायकिल चलाना सीख गये हैं।”</td>\n",
       "    </tr>\n",
       "  </tbody>\n",
       "</table>\n",
       "</div>"
      ],
      "text/plain": [
       "       source                                   english_sentence  \\\n",
       "84728     ted       the first time in any sort of public setting   \n",
       "86103     ted                          of not using sanitary pad   \n",
       "126623    ted                     now lets turn to two countries   \n",
       "100326    ted  what this dark energy that the universe is mad...   \n",
       "93616     ted                        youre an percent bicyclist”   \n",
       "\n",
       "                                           hindi_sentence  \n",
       "84728                   किसी भी सार्वजनिक मंच पर पहली बार  \n",
       "86103   समाज में सैनेटरी पैड ना इस्तेमाल कर पाने की सम...  \n",
       "126623                     अब फ़िर से एक नज़र दो देशों पर  \n",
       "100326  श्याम पदार्थ क्या है ब्रह्माण्ड जिससे बना उस स...  \n",
       "93616                       आप सायकिल चलाना सीख गये हैं।”  "
      ]
     },
     "execution_count": 77,
     "metadata": {},
     "output_type": "execute_result"
    }
   ],
   "source": [
    "data_lines['english_sentence'] = data_lines['english_sentence'].astype(str).apply(preprocess_text)\n",
    "data_lines['hindi_sentence'] = data_lines['hindi_sentence'].astype(str).apply(preprocess_text)\n",
    "data_lines.sample(5)"
   ]
  },
  {
   "cell_type": "code",
   "execution_count": 79,
   "id": "398a998a-0c16-4520-b99e-2009d9fe3efc",
   "metadata": {},
   "outputs": [
    {
     "data": {
      "text/html": [
       "<div>\n",
       "<style scoped>\n",
       "    .dataframe tbody tr th:only-of-type {\n",
       "        vertical-align: middle;\n",
       "    }\n",
       "\n",
       "    .dataframe tbody tr th {\n",
       "        vertical-align: top;\n",
       "    }\n",
       "\n",
       "    .dataframe thead th {\n",
       "        text-align: right;\n",
       "    }\n",
       "</style>\n",
       "<table border=\"1\" class=\"dataframe\">\n",
       "  <thead>\n",
       "    <tr style=\"text-align: right;\">\n",
       "      <th></th>\n",
       "      <th>source</th>\n",
       "      <th>english_sentence</th>\n",
       "      <th>hindi_sentence</th>\n",
       "    </tr>\n",
       "  </thead>\n",
       "  <tbody>\n",
       "    <tr>\n",
       "      <th>8874</th>\n",
       "      <td>ted</td>\n",
       "      <td>youve heard that saying</td>\n",
       "      <td>START_आपने कई बार ये सुना होगा_END</td>\n",
       "    </tr>\n",
       "    <tr>\n",
       "      <th>35758</th>\n",
       "      <td>ted</td>\n",
       "      <td>that is actually the device</td>\n",
       "      <td>START_यह वास्तव में मोबाईल हैं_END</td>\n",
       "    </tr>\n",
       "    <tr>\n",
       "      <th>110127</th>\n",
       "      <td>ted</td>\n",
       "      <td>this is the wrong way of looking at it</td>\n",
       "      <td>START_यह इसे देखने का गलत तरीका है_END</td>\n",
       "    </tr>\n",
       "    <tr>\n",
       "      <th>113189</th>\n",
       "      <td>ted</td>\n",
       "      <td>the fact is no government in the world</td>\n",
       "      <td>START_तथ्य यह है कि दुनिया की कोई भी सरकार_END</td>\n",
       "    </tr>\n",
       "    <tr>\n",
       "      <th>103909</th>\n",
       "      <td>ted</td>\n",
       "      <td>up the stairs down the hall past the real fire...</td>\n",
       "      <td>START_ऊपर की तरफ बरामदे में असली अग्निशमन कर्म...</td>\n",
       "    </tr>\n",
       "  </tbody>\n",
       "</table>\n",
       "</div>"
      ],
      "text/plain": [
       "       source                                   english_sentence  \\\n",
       "8874      ted                            youve heard that saying   \n",
       "35758     ted                        that is actually the device   \n",
       "110127    ted             this is the wrong way of looking at it   \n",
       "113189    ted             the fact is no government in the world   \n",
       "103909    ted  up the stairs down the hall past the real fire...   \n",
       "\n",
       "                                           hindi_sentence  \n",
       "8874                   START_आपने कई बार ये सुना होगा_END  \n",
       "35758                  START_यह वास्तव में मोबाईल हैं_END  \n",
       "110127             START_यह इसे देखने का गलत तरीका है_END  \n",
       "113189     START_तथ्य यह है कि दुनिया की कोई भी सरकार_END  \n",
       "103909  START_ऊपर की तरफ बरामदे में असली अग्निशमन कर्म...  "
      ]
     },
     "execution_count": 79,
     "metadata": {},
     "output_type": "execute_result"
    }
   ],
   "source": [
    "data_lines['hindi_sentence'] = data_lines['hindi_sentence'].apply(lambda x : \"START_\" + x + \"_END\")\n",
    "data_lines.sample(5)"
   ]
  },
  {
   "cell_type": "code",
   "execution_count": 78,
   "id": "9951339c-e244-4370-913d-5ba74e5067d1",
   "metadata": {},
   "outputs": [
    {
     "data": {
      "text/plain": [
       "source              object\n",
       "english_sentence    object\n",
       "hindi_sentence      object\n",
       "dtype: object"
      ]
     },
     "execution_count": 78,
     "metadata": {},
     "output_type": "execute_result"
    }
   ],
   "source": [
    "data_lines.dtypes"
   ]
  },
  {
   "cell_type": "code",
   "execution_count": null,
   "id": "c29c95bd-d6f2-4187-ac3e-9c304da5c079",
   "metadata": {},
   "outputs": [],
   "source": []
  }
 ],
 "metadata": {
  "kernelspec": {
   "display_name": "Python 3 (ipykernel)",
   "language": "python",
   "name": "python3"
  },
  "language_info": {
   "codemirror_mode": {
    "name": "ipython",
    "version": 3
   },
   "file_extension": ".py",
   "mimetype": "text/x-python",
   "name": "python",
   "nbconvert_exporter": "python",
   "pygments_lexer": "ipython3",
   "version": "3.11.7"
  }
 },
 "nbformat": 4,
 "nbformat_minor": 5
}
